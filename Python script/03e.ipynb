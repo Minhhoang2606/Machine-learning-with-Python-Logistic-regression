{
 "cells": [
  {
   "cell_type": "markdown",
   "id": "11963cc7",
   "metadata": {},
   "source": [
    "# Classifying Data with Logistic Regression in Python\n",
    "\n",
    "## Learning Objectives\n",
    "Logistic Regression is one of the simplest and most commonly used classification approaches in machine learning. Logistic regression allows us to model the relationship between independent variables and the probability of a categorical response (such as True or False, Yes or No). By the end of this tutorial, you will have learned:\n",
    "\n",
    "+ How to import, explore and prepare data\n",
    "+ How to build a Logistic Regression model\n",
    "+ How to evaluate a Logistic Regression model\n",
    "+ How to interpret the coefficients of a Logistic Regression model "
   ]
  },
  {
   "cell_type": "markdown",
   "id": "2887bb87",
   "metadata": {},
   "source": [
    "## 1. Collect the Data"
   ]
  },
  {
   "cell_type": "markdown",
   "id": "7c96c17b",
   "metadata": {},
   "source": [
    "Before we import our data, we must first import the `pandas` package."
   ]
  },
  {
   "cell_type": "code",
   "execution_count": 1,
   "id": "de4b4a56",
   "metadata": {},
   "outputs": [],
   "source": [
    "import pandas as pd"
   ]
  },
  {
   "cell_type": "markdown",
   "id": "eff3ec92",
   "metadata": {},
   "source": [
    "Now, we can import our data into a dataframe called `loan`."
   ]
  },
  {
   "cell_type": "code",
   "execution_count": 2,
   "id": "b53e3b3f",
   "metadata": {},
   "outputs": [],
   "source": [
    "loan = pd.read_csv(R\"..\\data\\loan.csv\")"
   ]
  },
  {
   "cell_type": "markdown",
   "id": "836693c2",
   "metadata": {},
   "source": [
    "To verify that the import worked as expected, let’s use the `head()` method of the pandas dataframe to preview the data."
   ]
  },
  {
   "cell_type": "code",
   "execution_count": 3,
   "id": "046f5901",
   "metadata": {},
   "outputs": [
    {
     "data": {
      "text/html": [
       "<div>\n",
       "<style scoped>\n",
       "    .dataframe tbody tr th:only-of-type {\n",
       "        vertical-align: middle;\n",
       "    }\n",
       "\n",
       "    .dataframe tbody tr th {\n",
       "        vertical-align: top;\n",
       "    }\n",
       "\n",
       "    .dataframe thead th {\n",
       "        text-align: right;\n",
       "    }\n",
       "</style>\n",
       "<table border=\"1\" class=\"dataframe\">\n",
       "  <thead>\n",
       "    <tr style=\"text-align: right;\">\n",
       "      <th></th>\n",
       "      <th>Income</th>\n",
       "      <th>Loan Amount</th>\n",
       "      <th>Default</th>\n",
       "    </tr>\n",
       "  </thead>\n",
       "  <tbody>\n",
       "    <tr>\n",
       "      <th>0</th>\n",
       "      <td>30</td>\n",
       "      <td>8</td>\n",
       "      <td>No</td>\n",
       "    </tr>\n",
       "    <tr>\n",
       "      <th>1</th>\n",
       "      <td>22</td>\n",
       "      <td>10</td>\n",
       "      <td>No</td>\n",
       "    </tr>\n",
       "    <tr>\n",
       "      <th>2</th>\n",
       "      <td>33</td>\n",
       "      <td>12</td>\n",
       "      <td>No</td>\n",
       "    </tr>\n",
       "    <tr>\n",
       "      <th>3</th>\n",
       "      <td>28</td>\n",
       "      <td>20</td>\n",
       "      <td>No</td>\n",
       "    </tr>\n",
       "    <tr>\n",
       "      <th>4</th>\n",
       "      <td>23</td>\n",
       "      <td>32</td>\n",
       "      <td>No</td>\n",
       "    </tr>\n",
       "  </tbody>\n",
       "</table>\n",
       "</div>"
      ],
      "text/plain": [
       "   Income  Loan Amount Default\n",
       "0      30            8      No\n",
       "1      22           10      No\n",
       "2      33           12      No\n",
       "3      28           20      No\n",
       "4      23           32      No"
      ]
     },
     "execution_count": 3,
     "metadata": {},
     "output_type": "execute_result"
    }
   ],
   "source": [
    "loan.head()"
   ]
  },
  {
   "cell_type": "markdown",
   "id": "758f2183",
   "metadata": {},
   "source": [
    "Our dataset has three columns. The first two - `Income` and `Loan Amount` - are the predictors (or independent variables), while the last one - `Default` - is the response (or dependent variable).\n",
    "\n",
    "In this exercise, we’ll use this `loan` data to train a logistic regression model to predict whether a borrower will default or not default on a new loan based on their income and the amount of money they intend to borrow. "
   ]
  },
  {
   "cell_type": "markdown",
   "id": "e6095cae",
   "metadata": {},
   "source": [
    "## 2. Explore the Data"
   ]
  },
  {
   "cell_type": "markdown",
   "id": "c1c66cc1",
   "metadata": {},
   "source": [
    "Now that we have our data, let's try to understand it.\n",
    "\n",
    "First, let's get a concise summary of the structure of the data by calling the `info()` method of the `loan` dataframe."
   ]
  },
  {
   "cell_type": "code",
   "execution_count": 4,
   "id": "67de73e2",
   "metadata": {},
   "outputs": [
    {
     "name": "stdout",
     "output_type": "stream",
     "text": [
      "<class 'pandas.core.frame.DataFrame'>\n",
      "RangeIndex: 30 entries, 0 to 29\n",
      "Data columns (total 3 columns):\n",
      " #   Column       Non-Null Count  Dtype \n",
      "---  ------       --------------  ----- \n",
      " 0   Income       30 non-null     int64 \n",
      " 1   Loan Amount  30 non-null     int64 \n",
      " 2   Default      30 non-null     object\n",
      "dtypes: int64(2), object(1)\n",
      "memory usage: 852.0+ bytes\n"
     ]
    }
   ],
   "source": [
    "loan.info()"
   ]
  },
  {
   "cell_type": "markdown",
   "id": "b7f146df",
   "metadata": {},
   "source": [
    "By looking at the `RangeIndex` value from the summary, we can tell that there are 30 instances (or rows) in the dataset. \n",
    "\n",
    "The `Data columns` value shows that the dataset consists of 3 features (or columns). Looking at the `Dtype` column within this section, we see that the `Income` and `Loan Amount` columns hold integer values, while the `Default` column holds text (aka object)."
   ]
  },
  {
   "cell_type": "markdown",
   "id": "c4602524",
   "metadata": {},
   "source": [
    "Next, let's get summary statistics for the numeric features in the data by calling the `describe()` method of the dataframe."
   ]
  },
  {
   "cell_type": "code",
   "execution_count": 5,
   "id": "acdf6ca5",
   "metadata": {},
   "outputs": [
    {
     "data": {
      "text/html": [
       "<div>\n",
       "<style scoped>\n",
       "    .dataframe tbody tr th:only-of-type {\n",
       "        vertical-align: middle;\n",
       "    }\n",
       "\n",
       "    .dataframe tbody tr th {\n",
       "        vertical-align: top;\n",
       "    }\n",
       "\n",
       "    .dataframe thead th {\n",
       "        text-align: right;\n",
       "    }\n",
       "</style>\n",
       "<table border=\"1\" class=\"dataframe\">\n",
       "  <thead>\n",
       "    <tr style=\"text-align: right;\">\n",
       "      <th></th>\n",
       "      <th>Income</th>\n",
       "      <th>Loan Amount</th>\n",
       "    </tr>\n",
       "  </thead>\n",
       "  <tbody>\n",
       "    <tr>\n",
       "      <th>count</th>\n",
       "      <td>30.000000</td>\n",
       "      <td>30.000000</td>\n",
       "    </tr>\n",
       "    <tr>\n",
       "      <th>mean</th>\n",
       "      <td>20.966667</td>\n",
       "      <td>54.233333</td>\n",
       "    </tr>\n",
       "    <tr>\n",
       "      <th>std</th>\n",
       "      <td>6.195011</td>\n",
       "      <td>28.231412</td>\n",
       "    </tr>\n",
       "    <tr>\n",
       "      <th>min</th>\n",
       "      <td>12.000000</td>\n",
       "      <td>8.000000</td>\n",
       "    </tr>\n",
       "    <tr>\n",
       "      <th>25%</th>\n",
       "      <td>16.250000</td>\n",
       "      <td>32.000000</td>\n",
       "    </tr>\n",
       "    <tr>\n",
       "      <th>50%</th>\n",
       "      <td>20.500000</td>\n",
       "      <td>54.500000</td>\n",
       "    </tr>\n",
       "    <tr>\n",
       "      <th>75%</th>\n",
       "      <td>24.750000</td>\n",
       "      <td>71.750000</td>\n",
       "    </tr>\n",
       "    <tr>\n",
       "      <th>max</th>\n",
       "      <td>34.000000</td>\n",
       "      <td>110.000000</td>\n",
       "    </tr>\n",
       "  </tbody>\n",
       "</table>\n",
       "</div>"
      ],
      "text/plain": [
       "          Income  Loan Amount\n",
       "count  30.000000    30.000000\n",
       "mean   20.966667    54.233333\n",
       "std     6.195011    28.231412\n",
       "min    12.000000     8.000000\n",
       "25%    16.250000    32.000000\n",
       "50%    20.500000    54.500000\n",
       "75%    24.750000    71.750000\n",
       "max    34.000000   110.000000"
      ]
     },
     "execution_count": 5,
     "metadata": {},
     "output_type": "execute_result"
    }
   ],
   "source": [
    "loan.describe()"
   ]
  },
  {
   "cell_type": "markdown",
   "id": "8889a842",
   "metadata": {},
   "source": [
    "From the statistics, we can see the average, standard deviation, minimum, and maximum values for both the `Income` and `Loan Amount` variables. We also get the 25th, 50th and 75th percentile values for both variables.\n",
    "\n",
    "Note that the values are in the thousands, so the minimum and maximum income values are \\\\$12,000 and \\\\$34,000, respectively. \n",
    "\n",
    "Now that we've described our data structurally and numerically, let’s describe it visually as well."
   ]
  },
  {
   "cell_type": "markdown",
   "id": "1ed89ece",
   "metadata": {},
   "source": [
    "### Boxplot\n",
    "Before we create the plots we need, we must first import a couple of packages. The first is the `matplotlib` package and the second is the `seaborn` package."
   ]
  },
  {
   "cell_type": "code",
   "execution_count": 6,
   "id": "7239372b",
   "metadata": {},
   "outputs": [],
   "source": [
    "from matplotlib import pyplot as plt\n",
    "import seaborn as sns"
   ]
  },
  {
   "cell_type": "markdown",
   "id": "5013146d",
   "metadata": {},
   "source": [
    "Let's start by creating a boxplot that highlights the difference in annual income between those that did not default on their loan (No) and those that did default (Yes). "
   ]
  },
  {
   "cell_type": "code",
   "execution_count": 7,
   "id": "9308d55a",
   "metadata": {},
   "outputs": [
    {
     "data": {
      "image/png": "[encoded data removed]",
      "text/plain": [
       "<Figure size 640x480 with 1 Axes>"
      ]
     },
     "metadata": {},
     "output_type": "display_data"
    }
   ],
   "source": [
    "ax = sns.boxplot(data = loan, x = 'Default', y = 'Income')"
   ]
  },
  {
   "cell_type": "markdown",
   "id": "6da0bae9",
   "metadata": {},
   "source": [
    "The chart shows that those that did not default on their loans tend to have a higher annual income than those that did default on their loans. "
   ]
  },
  {
   "cell_type": "markdown",
   "id": "fd1574a4",
   "metadata": {},
   "source": [
    "Next, let's create another box plot to highlight the difference in amount borrowed between those that did not default on their loans and those that did."
   ]
  },
  {
   "cell_type": "code",
   "execution_count": 8,
   "id": "bcb7b490",
   "metadata": {},
   "outputs": [
    {
     "data": {
      "image/png": "[encoded data removed]",
      "text/plain": [
       "<Figure size 640x480 with 1 Axes>"
      ]
     },
     "metadata": {},
     "output_type": "display_data"
    }
   ],
   "source": [
    "ax = sns.boxplot(data = loan, x = 'Default', y = 'Loan Amount')"
   ]
  },
  {
   "cell_type": "markdown",
   "id": "7158408e",
   "metadata": {},
   "source": [
    "This chart shows that those that defaulted on their loans tend to have borrowed more money than those that did not default."
   ]
  },
  {
   "cell_type": "markdown",
   "id": "9e51544a",
   "metadata": {},
   "source": [
    "### Scatterplot\n",
    "If we recode the `Default` feature values 'No' and 'Yes' to '0' and '1', we can also use a scatterplot to get a slightly different perspective of our data. "
   ]
  },
  {
   "cell_type": "markdown",
   "id": "bbdc98b1",
   "metadata": {},
   "source": [
    "However, before we do so, we must first import the `numpy` package."
   ]
  },
  {
   "cell_type": "code",
   "execution_count": 9,
   "id": "04b9e4bd",
   "metadata": {},
   "outputs": [],
   "source": [
    "import numpy as np"
   ]
  },
  {
   "cell_type": "markdown",
   "id": "88188d4c",
   "metadata": {},
   "source": [
    "Now, we can create a scatterplot that describes the relationship between the annual income of borrowers and default outcomes. "
   ]
  },
  {
   "cell_type": "code",
   "execution_count": 44,
   "id": "f0e2438f",
   "metadata": {},
   "outputs": [
    {
     "data": {
      "image/png": "[encoded data removed]",
      "text/plain": [
       "<Figure size 640x480 with 1 Axes>"
      ]
     },
     "metadata": {},
     "output_type": "display_data"
    }
   ],
   "source": [
    "ax = sns.scatterplot(x = loan['Income'],\n",
    "                     y = np.where(loan['Default'] == 'No', 0, 1),\n",
    "                     s = 150)\n",
    "plt.title('Income vs Default Outcome')\n",
    "plt.xlabel('Income')\n",
    "plt.ylabel('Default (0 = No, 1 = Yes)')\n",
    "plt.show()"
   ]
  },
  {
   "cell_type": "markdown",
   "id": "dbcc993e",
   "metadata": {},
   "source": [
    "We can also describe the relationship between the amount borrowed and default outcomes. "
   ]
  },
  {
   "cell_type": "code",
   "execution_count": 45,
   "id": "1387c926",
   "metadata": {
    "scrolled": true
   },
   "outputs": [
    {
     "data": {
      "image/png": "[encoded data removed]",
      "text/plain": [
       "<Figure size 640x480 with 1 Axes>"
      ]
     },
     "metadata": {},
     "output_type": "display_data"
    }
   ],
   "source": [
    "ax = sns.scatterplot(x = loan['Loan Amount'],\n",
    "                     y = np.where(loan['Default'] == 'No', 0, 1),\n",
    "                     s = 150)\n",
    "plt.title('Loan Amount vs Default')\n",
    "plt.xlabel('Loan Amount')\n",
    "plt.ylabel('Default (0 = No, 1 = Yes)')\n",
    "plt.show()"
   ]
  },
  {
   "cell_type": "markdown",
   "id": "5b063af6",
   "metadata": {},
   "source": [
    "Looking at these two charts, we can easily imagine a sigmoid curve that fits the data. This tells us that a logistic regression function would model the relationship between the predictors (`Income` and `Loan Amount`) and the response (`Default`) well."
   ]
  },
  {
   "cell_type": "markdown",
   "id": "d6d214f4",
   "metadata": {},
   "source": [
    "## 3. Prepare the Data"
   ]
  },
  {
   "cell_type": "markdown",
   "id": "1c7e68c4",
   "metadata": {},
   "source": [
    "Our primary objective in this step is to split our data into training and test sets. The training set will be used to train the model, while the test set will be used to evaluate the model.\n",
    "\n",
    "Before we split the data, we first need to separate the dependent variable from the independent variables."
   ]
  },
  {
   "cell_type": "markdown",
   "id": "9e239ee4",
   "metadata": {},
   "source": [
    "Let's start by creating a pandas Series called `y` for the dependent variable."
   ]
  },
  {
   "cell_type": "code",
   "execution_count": 12,
   "id": "a570e61b",
   "metadata": {
    "scrolled": false
   },
   "outputs": [],
   "source": [
    "y = loan['Default']"
   ]
  },
  {
   "cell_type": "markdown",
   "id": "408be828",
   "metadata": {},
   "source": [
    "Then we create a pandas DataFrame called `X` for the independent variables."
   ]
  },
  {
   "cell_type": "code",
   "execution_count": 13,
   "id": "1fda732e",
   "metadata": {
    "scrolled": false
   },
   "outputs": [],
   "source": [
    "X = loan[['Income', 'Loan Amount']]"
   ]
  },
  {
   "cell_type": "markdown",
   "id": "89042894",
   "metadata": {},
   "source": [
    "Next, we import the `train_test_split()` function from the `sklearn.model_selection` subpackage. "
   ]
  },
  {
   "cell_type": "code",
   "execution_count": 14,
   "id": "cd01aaca",
   "metadata": {},
   "outputs": [],
   "source": [
    "from sklearn.model_selection import train_test_split"
   ]
  },
  {
   "cell_type": "markdown",
   "id": "67a48b50",
   "metadata": {},
   "source": [
    "Using the `train_test_split()` function, we can split `X` and `y` into `X_train`, `X_test`, `y_train` and `y_test`.\n",
    "\n",
    "Note that within the `train_test_split()` function, we will set:\n",
    "\n",
    "* `train_size` to `0.7`. This means we want $70\\%$ of the original data to be assigned to the training data while $30\\%$ is assigned to the test data. \n",
    "\n",
    "* `stratify` as `y`, which means that we want the data split using a stratified random sampling approach based on the values of `y`. \n",
    "\n",
    "* `random_state` to `123`, so we get the same results every time we do this split. "
   ]
  },
  {
   "cell_type": "code",
   "execution_count": 15,
   "id": "346cdb9d",
   "metadata": {},
   "outputs": [],
   "source": [
    "X_train, X_test, y_train, y_test = train_test_split(X, y,\n",
    "                                                    train_size = 0.7,\n",
    "                                                    stratify = y,\n",
    "                                                    random_state = 123)"
   ]
  },
  {
   "cell_type": "markdown",
   "id": "394ac187",
   "metadata": {},
   "source": [
    "After the data is split, the newly created `X_train` and `X_test` data sets hold the independent variables for the training and test sets, respectively. While the `y_train` and `y_test` data sets hold the dependent variable for the training and test sets respectively.\n"
   ]
  },
  {
   "cell_type": "markdown",
   "id": "cbc90e5d",
   "metadata": {},
   "source": [
    "We can refer to the `shape` attribute of any of the newly created data sets to know how many instances or records are in each. Let's look at the training data."
   ]
  },
  {
   "cell_type": "code",
   "execution_count": 46,
   "id": "66162c9a",
   "metadata": {
    "scrolled": false
   },
   "outputs": [
    {
     "name": "stdout",
     "output_type": "stream",
     "text": [
      "Training set: (21, 2) (21,)\n",
      "Test set: (9, 2) (9,)\n"
     ]
    }
   ],
   "source": [
    "# Verify the shape of the training and test sets\n",
    "print(\"Training set:\", X_train.shape, y_train.shape)\n",
    "print(\"Test set:\", X_test.shape, y_test.shape)"
   ]
  },
  {
   "cell_type": "markdown",
   "id": "cf46e048",
   "metadata": {},
   "source": [
    "The result is a tuple that holds the number of rows and columns in the `X_train` dataframe. It tells us that $21$ out of the $30$ instances in the `loans` data were assigned to the training set."
   ]
  },
  {
   "cell_type": "markdown",
   "id": "8dfa25f9",
   "metadata": {},
   "source": [
    "The train test tells us that $9$ out of the $30$ instances in the `loans` data were assigned to the test set."
   ]
  },
  {
   "cell_type": "markdown",
   "id": "7e67d2b0",
   "metadata": {},
   "source": [
    "## 4. Train and Evaluate the Model"
   ]
  },
  {
   "cell_type": "markdown",
   "id": "36c65e26",
   "metadata": {},
   "source": [
    "We are going to use the `LogisticRegression` class from the `sklearn.linear_model` subpackage to train our model. Let's import it."
   ]
  },
  {
   "cell_type": "code",
   "execution_count": 18,
   "id": "69e53d51",
   "metadata": {},
   "outputs": [],
   "source": [
    "from sklearn.linear_model import LogisticRegression"
   ]
  },
  {
   "cell_type": "markdown",
   "id": "d42be18c",
   "metadata": {},
   "source": [
    "We can now instantiate a new object called `classifier` from the `LogisticRegression` class."
   ]
  },
  {
   "cell_type": "code",
   "execution_count": 19,
   "id": "263345cf",
   "metadata": {},
   "outputs": [],
   "source": [
    "classifier = LogisticRegression()"
   ]
  },
  {
   "cell_type": "markdown",
   "id": "6b138191",
   "metadata": {},
   "source": [
    "To train a model, we pass the training data (`X_train` and `y_train`) to the `fit()` method of the classifier object."
   ]
  },
  {
   "cell_type": "code",
   "execution_count": 20,
   "id": "eafcb43f",
   "metadata": {
    "scrolled": true
   },
   "outputs": [],
   "source": [
    "model = classifier.fit(X_train, y_train)"
   ]
  },
  {
   "cell_type": "markdown",
   "id": "be18f2c1",
   "metadata": {},
   "source": [
    "Recall that there are $9$ instances (or rows) in the test set. To predict labels for the test instances, we pass the independent variables of the test set (`X_test`) to the `predict()` method of the model."
   ]
  },
  {
   "cell_type": "code",
   "execution_count": 50,
   "id": "7332d1bc",
   "metadata": {},
   "outputs": [
    {
     "name": "stdout",
     "output_type": "stream",
     "text": [
      "['Yes' 'Yes' 'Yes' 'Yes' 'Yes' 'No' 'No' 'No' 'Yes']\n"
     ]
    }
   ],
   "source": [
    "# Make predictions on the test set\n",
    "predictions = model.predict(X_test)\n",
    "print(predictions)"
   ]
  },
  {
   "cell_type": "markdown",
   "id": "f6ae05fc",
   "metadata": {},
   "source": [
    "The output lists the predictions made by the model in the order in which the instances appear in the test set.\n",
    "\n",
    "To evaluate how accurate our model is, we pass the test data (`X_test` and `y_test`) to the `score()` method of the model."
   ]
  },
  {
   "cell_type": "code",
   "execution_count": 48,
   "id": "20fa1a33",
   "metadata": {
    "scrolled": false
   },
   "outputs": [
    {
     "name": "stdout",
     "output_type": "stream",
     "text": [
      "Model Accuracy: 0.8888888888888888\n"
     ]
    }
   ],
   "source": [
    "# Evaluate the model's accuracy\n",
    "accuracy = model.score(X_test, y_test)\n",
    "print(\"Model Accuracy:\", accuracy)"
   ]
  },
  {
   "cell_type": "markdown",
   "id": "17cb769b",
   "metadata": {},
   "source": [
    "The result tells us that our Logistic Regression model is able to correctly predict $8$ out of $9$ (or $89\\%$) of the labels in the test set."
   ]
  },
  {
   "cell_type": "markdown",
   "id": "d887aaa1",
   "metadata": {},
   "source": [
    "The accuracy of a model only gives us a one-dimensional perspective of performance. To get a broader perspective, we need to generate a confusion (or error) matrix of the model's performance. \n",
    "\n",
    "To do this, we need to import the `confusion_matrix` function from the `sklearn.metrics` subpackage."
   ]
  },
  {
   "cell_type": "code",
   "execution_count": 23,
   "id": "c1b722a1",
   "metadata": {},
   "outputs": [],
   "source": [
    "from sklearn.metrics import confusion_matrix"
   ]
  },
  {
   "cell_type": "markdown",
   "id": "2fa1d34b",
   "metadata": {},
   "source": [
    "Then we pass the dependent variable from the test set (which are the actual labels) and the model's predicted labels to the `confusion_matrix()` function."
   ]
  },
  {
   "cell_type": "code",
   "execution_count": 51,
   "id": "3cba5859",
   "metadata": {},
   "outputs": [
    {
     "name": "stdout",
     "output_type": "stream",
     "text": [
      "Confusion Matrix:\n",
      " [[3 1]\n",
      " [0 5]]\n"
     ]
    }
   ],
   "source": [
    "# Generate and print the confusion matrix\n",
    "conf_matrix = confusion_matrix(y_test, predictions)\n",
    "print(\"Confusion Matrix:\\n\", conf_matrix)"
   ]
  },
  {
   "attachments": {},
   "cell_type": "markdown",
   "id": "fc57c822",
   "metadata": {},
   "source": [
    "The result is a $ 2\\times 2$ array that shows how many instances the model predicted correctly or incorrectly as either `Yes` or `No`. This confusion matrix can be illustrated as follows:"
   ]
  },
  {
   "attachments": {
    "conf_matrix.png": {
     "image/png": "[encoded data removed]"
    }
   },
   "cell_type": "markdown",
   "id": "d9d04cba",
   "metadata": {},
   "source": [
    "![conf_matrix.png](attachment:conf_matrix.png)"
   ]
  },
  {
   "cell_type": "markdown",
   "id": "33d0bc74",
   "metadata": {},
   "source": [
    "The first row of the matrix shows that of the $4$ instances that were actually `No`, the model predicted $3$ of them as `No` but $1$ of them as `Yes`. The second row of the matrix shows that of the $5$ instances that were actually `Yes`, the model predicted all $5$ correctly as `Yes`."
   ]
  },
  {
   "cell_type": "markdown",
   "id": "de7143cf",
   "metadata": {},
   "source": [
    "## 5. Interpret the Model"
   ]
  },
  {
   "cell_type": "markdown",
   "id": "ad2c87a8",
   "metadata": {},
   "source": [
    "Now that we've built a Logistic Regression model and evaluated the performance of the model on the test data, we can now interpret the model's output. Specifically, the model coefficients."
   ]
  },
  {
   "cell_type": "markdown",
   "id": "c4f3dfc1",
   "metadata": {},
   "source": [
    "The relatonship between the dependent and independent variables in a Logistic Regression model is generally represented as follows:\n",
    "\n",
    "$$ log(\\frac{P}{1 - P}) = \\beta_{0} + \\beta_{1}X_{1} + ...+ \\beta_{n}X_{n}$$\n",
    "\n",
    "In this representation, the left hand side of the equaton is known as the **logit** or the log-odds of the probability of an outcome or class $P$. $\\beta_{0}$ is the intercept. $\\beta_{1}$ to $\\beta_{n}$ are the coefficients of the independent variables $X_{1}$ to $X_{n}$."
   ]
  },
  {
   "cell_type": "markdown",
   "id": "54b5daba",
   "metadata": {},
   "source": [
    "To get the intercept (or $\\beta_{0}$), we refer to the `intercept_` attribute of our model."
   ]
  },
  {
   "cell_type": "code",
   "execution_count": 25,
   "id": "1dc049cf",
   "metadata": {
    "scrolled": true
   },
   "outputs": [
    {
     "data": {
      "text/plain": [
       "array([15.4670632])"
      ]
     },
     "execution_count": 25,
     "metadata": {},
     "output_type": "execute_result"
    }
   ],
   "source": [
    "model.intercept_"
   ]
  },
  {
   "cell_type": "markdown",
   "id": "46073f5a",
   "metadata": {},
   "source": [
    "To get the other model coefficients ($\\beta_{1}$ and $\\beta_{2}$), we refer to the `coef_` attribute of our model."
   ]
  },
  {
   "cell_type": "code",
   "execution_count": 26,
   "id": "a5273286",
   "metadata": {},
   "outputs": [
    {
     "data": {
      "text/plain": [
       "array([[-1.0178107 ,  0.14656096]])"
      ]
     },
     "execution_count": 26,
     "metadata": {},
     "output_type": "execute_result"
    }
   ],
   "source": [
    "model.coef_"
   ]
  },
  {
   "cell_type": "markdown",
   "id": "a47e48aa",
   "metadata": {},
   "source": [
    "The model coefficients correspond to the order in which the independent variables are listed in the training data. This means that the equation for our Logistic Regression model can be written as:\n",
    "\n",
    "$$ log(\\frac{P}{1 - P}) = 15.4670632 -1.0178107 \\times \\text{Income} + 0.14656096 \\times \\text{Loan Amount} $$\n"
   ]
  },
  {
   "cell_type": "markdown",
   "id": "594a64b8",
   "metadata": {},
   "source": [
    "To make our coefficients easier to work with, let's convert the coefficients from a two-dimenionsal array to a one-dimensional array and round the values to two decimal places."
   ]
  },
  {
   "cell_type": "code",
   "execution_count": 27,
   "id": "c89d0a08",
   "metadata": {},
   "outputs": [
    {
     "data": {
      "text/plain": [
       "array([-1.02,  0.15])"
      ]
     },
     "execution_count": 27,
     "metadata": {},
     "output_type": "execute_result"
    }
   ],
   "source": [
    "log_odds = np.round(model.coef_[0], 2)\n",
    "log_odds"
   ]
  },
  {
   "cell_type": "markdown",
   "id": "f09002c7",
   "metadata": {},
   "source": [
    "Next, let's create a pandas DataFrame using the coefficient values and the column names from the training data as row indexes:"
   ]
  },
  {
   "cell_type": "code",
   "execution_count": 28,
   "id": "556a5e49",
   "metadata": {
    "scrolled": false
   },
   "outputs": [
    {
     "data": {
      "text/html": [
       "<div>\n",
       "<style scoped>\n",
       "    .dataframe tbody tr th:only-of-type {\n",
       "        vertical-align: middle;\n",
       "    }\n",
       "\n",
       "    .dataframe tbody tr th {\n",
       "        vertical-align: top;\n",
       "    }\n",
       "\n",
       "    .dataframe thead th {\n",
       "        text-align: right;\n",
       "    }\n",
       "</style>\n",
       "<table border=\"1\" class=\"dataframe\">\n",
       "  <thead>\n",
       "    <tr style=\"text-align: right;\">\n",
       "      <th></th>\n",
       "      <th>log odds</th>\n",
       "    </tr>\n",
       "  </thead>\n",
       "  <tbody>\n",
       "    <tr>\n",
       "      <th>Income</th>\n",
       "      <td>-1.02</td>\n",
       "    </tr>\n",
       "    <tr>\n",
       "      <th>Loan Amount</th>\n",
       "      <td>0.15</td>\n",
       "    </tr>\n",
       "  </tbody>\n",
       "</table>\n",
       "</div>"
      ],
      "text/plain": [
       "             log odds\n",
       "Income          -1.02\n",
       "Loan Amount      0.15"
      ]
     },
     "execution_count": 28,
     "metadata": {},
     "output_type": "execute_result"
    }
   ],
   "source": [
    "pd.DataFrame({'log odds': log_odds},\n",
    "              index = X.columns)"
   ]
  },
  {
   "cell_type": "markdown",
   "id": "ea1dc32f",
   "metadata": {},
   "source": [
    "The first coefficient tells us that, when all other variables are held constant, a $\\$1$ increase in a borrowers income decreases the log odds that they will default on their loan by $1.02$. \n",
    "\n",
    "Likewise, the second coefficent tells us that a $\\$1$ increase in the amount a customer borrows, increases the log odds that they will default on their loan by $0.15$ when all other variables are held constant.\n",
    "\n",
    "Understandably, interpreting the coefficients in terms of log odds is a bit confusing. A more intuitive approach would be to look at them in terms of odds. Let's exponentiate the coefficients so we can interpret them in terms of odds rather than log odds:"
   ]
  },
  {
   "cell_type": "code",
   "execution_count": 29,
   "id": "f5bd37c6",
   "metadata": {
    "scrolled": true
   },
   "outputs": [
    {
     "data": {
      "text/html": [
       "<div>\n",
       "<style scoped>\n",
       "    .dataframe tbody tr th:only-of-type {\n",
       "        vertical-align: middle;\n",
       "    }\n",
       "\n",
       "    .dataframe tbody tr th {\n",
       "        vertical-align: top;\n",
       "    }\n",
       "\n",
       "    .dataframe thead th {\n",
       "        text-align: right;\n",
       "    }\n",
       "</style>\n",
       "<table border=\"1\" class=\"dataframe\">\n",
       "  <thead>\n",
       "    <tr style=\"text-align: right;\">\n",
       "      <th></th>\n",
       "      <th>odds</th>\n",
       "    </tr>\n",
       "  </thead>\n",
       "  <tbody>\n",
       "    <tr>\n",
       "      <th>Income</th>\n",
       "      <td>0.36</td>\n",
       "    </tr>\n",
       "    <tr>\n",
       "      <th>Loan Amount</th>\n",
       "      <td>1.16</td>\n",
       "    </tr>\n",
       "  </tbody>\n",
       "</table>\n",
       "</div>"
      ],
      "text/plain": [
       "             odds\n",
       "Income       0.36\n",
       "Loan Amount  1.16"
      ]
     },
     "execution_count": 29,
     "metadata": {},
     "output_type": "execute_result"
    }
   ],
   "source": [
    "odds = np.round(np.exp(log_odds), 2)\n",
    "pd.DataFrame({'odds': odds},\n",
    "              index = X.columns)"
   ]
  },
  {
   "cell_type": "markdown",
   "id": "91d11fda",
   "metadata": {},
   "source": [
    "The first coefficent tells us that for every $\\$1$ increase in a borrower's income, the odds that they will default on their loan reduces by $64\\%$ ($1 - 0.36$) when all other variables are held constant. Earning more money decreases the odds of default.\n",
    "\n",
    "The second coefficent tells us that, assuming all other variables are held constant, for every $\\$1$ increase in the amount borrowed, the odds that a borrower will default on their loan increases by $16\\%$ ($1.16 - 1$). Borrowing more money increases the odds of default.\n",
    "\n",
    "We can also interpret the second coefficent as saying that for every $\\$1$ increase in the amount borrowed, the odds that a borrower will default on their loan increases by a factor of $1.16$, assuming all other variables are held constant."
   ]
  }
 ],
 "metadata": {
  "kernelspec": {
   "display_name": "Python 3 (ipykernel)",
   "language": "python",
   "name": "python3"
  },
  "language_info": {
   "codemirror_mode": {
    "name": "ipython",
    "version": 3
   },
   "file_extension": ".py",
   "mimetype": "text/x-python",
   "name": "python",
   "nbconvert_exporter": "python",
   "pygments_lexer": "ipython3",
   "version": "3.11.9"
  }
 },
 "nbformat": 4,
 "nbformat_minor": 5
}
